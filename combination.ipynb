{
  "cells": [
    {
      "cell_type": "markdown",
      "metadata": {
        "id": "qfovcStoCbu-"
      },
      "source": [
        "# Combinalion of linguistic features and fine-tuned `roberta-base`"
      ]
    },
    {
      "cell_type": "code",
      "execution_count": 1,
      "metadata": {
        "id": "0m24Bk7_u-z9"
      },
      "outputs": [],
      "source": [
        "import json\n",
        "import os\n",
        "import pickle\n",
        "from collections import Counter\n",
        "\n",
        "import torch\n",
        "from torch import nn\n",
        "from torch.utils.data import DataLoader, Dataset\n",
        "import torch.optim as optim\n",
        "from transformers import AutoTokenizer, AutoModel\n",
        "from sklearn.decomposition import TruncatedSVD\n",
        "from sklearn.preprocessing import MaxAbsScaler\n",
        "from sklearn.metrics import accuracy_score, f1_score\n",
        "from sklearn.model_selection import train_test_split\n",
        "import numpy as np\n",
        "import pandas as pd\n",
        "from scipy.sparse import hstack, load_npz\n",
        "from tqdm.auto import tqdm"
      ]
    },
    {
      "cell_type": "code",
      "execution_count": 7,
      "metadata": {
        "id": "OgZiD-yFvaVP"
      },
      "outputs": [],
      "source": [
        "DIRECTORY = \"./processed_data\"\n",
        "DIRECTORY_MAIN = \".\""
      ]
    },
    {
      "cell_type": "markdown",
      "metadata": {
        "id": "kbZzkZKiCg73"
      },
      "source": [
        "## Data"
      ]
    },
    {
      "cell_type": "code",
      "execution_count": 9,
      "metadata": {
        "id": "q5bgiYN6wFUo"
      },
      "outputs": [],
      "source": [
        "def jsonl_read(path):\n",
        "    \"\"\"Read jsonl data from file.\n",
        "\n",
        "    Args:\n",
        "    path: path to the jsonl file.\n",
        "\n",
        "    Returns:\n",
        "    list of json objects.\n",
        "    \"\"\"\n",
        "\n",
        "    with open(os.path.join(DIRECTORY_MAIN, path), \"r\") as f:\n",
        "        data = [json.loads(line) for line in f]\n",
        "    return data\n",
        "\n",
        "def jsonl_write(path, data):\n",
        "    \"\"\"Write jsonl data to file.\n",
        "\n",
        "    Args:\n",
        "    path: path to the output jsonl file.\n",
        "    data: list of json objects.\n",
        "    \"\"\"\n",
        "\n",
        "    with open(os.path.join(DIRECTORY_MAIN, path), \"w\") as f:\n",
        "        for entry in data:\n",
        "            f.write(json.dumps(entry) + \"\\n\")\n",
        "\n",
        "def get_data():\n",
        "    train = jsonl_read(\"SubtaskA/subtaskA_train_monolingual.jsonl\")\n",
        "    dev = jsonl_read(\"SubtaskA/subtaskA_dev_monolingual.jsonl\")\n",
        "    return train, dev"
      ]
    },
    {
      "cell_type": "markdown",
      "metadata": {
        "id": "MfEWylAnsn1Y"
      },
      "source": [
        "To get train and dev datasets:"
      ]
    },
    {
      "cell_type": "code",
      "execution_count": 10,
      "metadata": {
        "id": "CmIpOt9ZwFSA"
      },
      "outputs": [],
      "source": [
        "train, test = get_data()\n",
        "y_train = [entry[\"label\"] for entry in train]\n",
        "y_test = [entry[\"label\"] for entry in test]"
      ]
    },
    {
      "cell_type": "markdown",
      "metadata": {
        "id": "VVJqeZ_pCizQ"
      },
      "source": [
        "### Features: Stylometry"
      ]
    },
    {
      "cell_type": "code",
      "execution_count": 11,
      "metadata": {
        "id": "ZGvniVt5suNo"
      },
      "outputs": [],
      "source": [
        "def get_stylometry_features(have_svd=True):\n",
        "    train_pos_tf = load_npz(os.path.join(DIRECTORY, \"pos_tf.npz\"))\n",
        "    train_shape_tf = load_npz(os.path.join(DIRECTORY, \"shape_tf.npz\"))\n",
        "    style_train = hstack([train_pos_tf, train_shape_tf])\n",
        "\n",
        "    dev_pos_tf = load_npz(os.path.join(DIRECTORY, \"pos_tf_dev.npz\"))\n",
        "    dev_shape_tf = load_npz(os.path.join(DIRECTORY, \"shape_tf_dev.npz\"))\n",
        "    style_test = hstack([dev_pos_tf, dev_shape_tf])\n",
        "\n",
        "    transformer = MaxAbsScaler().fit(style_train)\n",
        "    style_train = transformer.transform(style_train)\n",
        "    style_test = transformer.transform(style_test)\n",
        "\n",
        "    if not have_svd:\n",
        "        svd = TruncatedSVD(n_components=768)\n",
        "        svd.fit(style_train)\n",
        "        with open(os.path.join(DIRECTORY, \"svd_768.pkl\"), \"wb\") as file:\n",
        "            pickle.dump(svd, file)\n",
        "\n",
        "    with open(os.path.join(DIRECTORY, \"svd_768.pkl\"), \"rb\") as file:\n",
        "        svd = pickle.load(file)\n",
        "    style_train = svd.transform(style_train)\n",
        "    style_test = svd.transform(style_test)\n",
        "    return style_train, style_test"
      ]
    },
    {
      "cell_type": "markdown",
      "metadata": {
        "id": "G_vwEhJctbH5"
      },
      "source": [
        "To get dense stylometry vectors:"
      ]
    },
    {
      "cell_type": "code",
      "execution_count": 13,
      "metadata": {
        "id": "7-adpGjatakn"
      },
      "outputs": [],
      "source": [
        "style_train, style_test = get_stylometry_features()"
      ]
    },
    {
      "cell_type": "markdown",
      "metadata": {
        "id": "Aosj1R98t7H1"
      },
      "source": [
        "## Features: Others"
      ]
    },
    {
      "cell_type": "code",
      "execution_count": 14,
      "metadata": {
        "id": "NqaprzyDHnoe"
      },
      "outputs": [],
      "source": [
        "def combine_data(file_name_div: str,\n",
        "                 file_name_read: str,\n",
        "                 file_name_rst: str,\n",
        "                 file_name_ent: str) -> pd.DataFrame:\n",
        "    data_div = pd.read_json(os.path.join(DIRECTORY, file_name_div), lines=True)\n",
        "    data_div.rename(columns={col: f\"DIV_{col}\" for col in data_div.columns[4:]},\n",
        "                    inplace=True)\n",
        "\n",
        "    data_read = pd.read_json(os.path.join(DIRECTORY, file_name_read), lines=True)\n",
        "    if \"text\" in data_read:\n",
        "        data_read.drop(columns=[\"text\"], inplace=True)\n",
        "    data_read.dropna(subset=[\"id\"], inplace=True)\n",
        "    data_read[\"id\"] = data_read[\"id\"].astype(\"int\")\n",
        "    data_read.reset_index(inplace=True)\n",
        "    data_read.rename(columns={col: f\"READ_{col}\" for col in data_read.columns[5:]},\n",
        "                    inplace=True)\n",
        "\n",
        "    data_rst = pd.read_csv(os.path.join(DIRECTORY, file_name_rst), index_col=0)\n",
        "    data_rst[\"id\"] = data_rst[\"id\"].astype(\"int\")\n",
        "    data_rst.rename(columns={col: f\"RST_{col}\" for col in data_rst.columns[3:]},\n",
        "                    inplace=True)\n",
        "\n",
        "    data_ent = pd.read_csv(os.path.join(DIRECTORY, file_name_ent), index_col=0)\n",
        "    data_ent.sort_values(by=\"id\", inplace=True)\n",
        "    data_ent[\"id\"] = data_ent[\"id\"].astype(\"int\")\n",
        "    data_ent.rename(columns={col: f\"ENT_{col}\" for col in data_ent.columns[1:]},\n",
        "                    inplace=True)\n",
        "\n",
        "    data = pd.concat([data_div,\n",
        "                    data_read.iloc[:, 5:],\n",
        "                    data_rst.iloc[:, 3:],\n",
        "                    data_ent.iloc[:, 1:]], axis=1)\n",
        "    data.dropna(inplace=True)\n",
        "    return data"
      ]
    },
    {
      "cell_type": "markdown",
      "metadata": {
        "id": "9Edq5N79uCJV"
      },
      "source": [
        "To get `pd.DataFrame` with other features:"
      ]
    },
    {
      "cell_type": "code",
      "execution_count": 15,
      "metadata": {
        "id": "xgSxeE6Ht2aO"
      },
      "outputs": [],
      "source": [
        "features_train_ = combine_data(\"train_diversities.jsonl\",\n",
        "                              \"readability_train.jsonl\",\n",
        "                              \"rst_train.csv\",\n",
        "                              \"entity_grid_train.csv\").iloc[:, 4:]\n",
        "features_test_ = combine_data(\"dev_diversities.jsonl\",\n",
        "                              \"readability_dev.jsonl\",\n",
        "                              \"rst_dev.csv\",\n",
        "                              \"entity_grid_dev.csv\").iloc[:, 4:]"
      ]
    },
    {
      "cell_type": "markdown",
      "metadata": {
        "id": "H2TlVclYCncs"
      },
      "source": [
        "## Fine-tuned `roberta-base`"
      ]
    },
    {
      "cell_type": "code",
      "execution_count": 16,
      "metadata": {
        "colab": {
          "base_uri": "https://localhost:8080/"
        },
        "id": "WqFgMovuuvLV",
        "outputId": "4eddc67e-d654-4e3a-911f-8c7f90092ddf"
      },
      "outputs": [
        {
          "name": "stderr",
          "output_type": "stream",
          "text": [
            "Some weights of RobertaModel were not initialized from the model checkpoint at /content/drive/MyDrive/data_semeval/task8/best_roberta and are newly initialized: ['roberta.pooler.dense.weight', 'roberta.pooler.dense.bias']\n",
            "You should probably TRAIN this model on a down-stream task to be able to use it for predictions and inference.\n"
          ]
        }
      ],
      "source": [
        "device = torch.device(\"cuda\" if torch.cuda.is_available() else \"cpu\")\n",
        "\n",
        "id2label = {0: \"human\", 1: \"machine\"}\n",
        "label2id = {\"human\": 0, \"machine\": 1}\n",
        "\n",
        "tokenizer = AutoTokenizer.from_pretrained(os.path.join(DIRECTORY_MAIN, \"best_roberta\"))\n",
        "model = AutoModel.from_pretrained(os.path.join(DIRECTORY_MAIN, \"best_roberta\"),\n",
        "                                  num_labels=len(label2id),\n",
        "                                  id2label=id2label,\n",
        "                                  label2id=label2id,\n",
        "                                  torch_dtype=torch.float16).to(device)"
      ]
    },
    {
      "cell_type": "code",
      "execution_count": 19,
      "metadata": {
        "id": "QodPEpD70xfo"
      },
      "outputs": [],
      "source": [
        "def get_text_embeddings(texts: list) -> torch.Tensor:\n",
        "    batch_size = 16\n",
        "    model.eval()\n",
        "    results = []\n",
        "    for i in tqdm(range(0, len(texts), batch_size)):\n",
        "        encoded_inputs = tokenizer(texts[i:i+batch_size], padding=True, truncation=True, return_tensors=\"pt\")\n",
        "        batch_inputs = {k: v.to(device) for k, v in encoded_inputs.items()}\n",
        "        with torch.no_grad():\n",
        "            outputs = model(**batch_inputs)\n",
        "        pooled_output = outputs[1]\n",
        "        results.extend(list(pooled_output.cpu().numpy()))\n",
        "    return results"
      ]
    },
    {
      "cell_type": "markdown",
      "metadata": {
        "id": "tSj_5IKpvgyq"
      },
      "source": [
        "To get embeddings:"
      ]
    },
    {
      "cell_type": "code",
      "execution_count": 20,
      "metadata": {
        "colab": {
          "base_uri": "https://localhost:8080/",
          "height": 81,
          "referenced_widgets": [
            "15cd17c455664f7baa08fc3f0fa92536",
            "99e05868e317432fad9e7c24153cdb7c",
            "054ab8dcd0224c638d39ea46c30831f1",
            "c4964643dd9143abb8c3abdbba2c9e91",
            "6250ba769f634b0dbc295e9ea52c12cb",
            "2b2cc3ea7e1c4ab1a049dcca4742cded",
            "b31948d1f2ad41128243264a3d29ef5d",
            "3ded8b00586840688b1130cb2afa4472",
            "cb1ccd7633db4ceb8c349d1aad811f6c",
            "69f9288e2dc24f3a9f01947e6b55d442",
            "3adb392f10bf460cbd14bc8dc0785f44",
            "45f8818bec3c4da8ae0b8447a4ca714f",
            "3e013e9ba6454c8ea0f03513de5de0b2",
            "f7c1acece7b845de9be4e1854972f38c",
            "3944d974749143d1ae81fd41b5b5078b",
            "6457ece9566d4eb58c4aa6927f270818",
            "aad9539347b74f0e86f4203ee3a9a172",
            "f09fc2a4230e4024a60a747b27984aa8",
            "113d9ca0bc5744a0b43a4b62788d585d",
            "8aa6cfa2b188428fa0e2fbdecf9d5ebf",
            "989d135e00794429bd27e37f16212874",
            "315db6fba85e451ba2cb44e95a40971b"
          ]
        },
        "id": "Ww3Shn5K2RhN",
        "outputId": "7aa7dd04-ede9-447f-dd8c-1fd17bae0955"
      },
      "outputs": [
        {
          "data": {
            "application/vnd.jupyter.widget-view+json": {
              "model_id": "15cd17c455664f7baa08fc3f0fa92536",
              "version_major": 2,
              "version_minor": 0
            },
            "text/plain": [
              "  0%|          | 0/7485 [00:00<?, ?it/s]"
            ]
          },
          "metadata": {},
          "output_type": "display_data"
        },
        {
          "data": {
            "application/vnd.jupyter.widget-view+json": {
              "model_id": "45f8818bec3c4da8ae0b8447a4ca714f",
              "version_major": 2,
              "version_minor": 0
            },
            "text/plain": [
              "  0%|          | 0/313 [00:00<?, ?it/s]"
            ]
          },
          "metadata": {},
          "output_type": "display_data"
        }
      ],
      "source": [
        "train_texts = [entry[\"text\"] for entry in train]\n",
        "train_embeddings = np.array(get_text_embeddings(train_texts))\n",
        "\n",
        "test_texts = [entry[\"text\"] for entry in test]\n",
        "test_embeddings = np.array(get_text_embeddings(test_texts))"
      ]
    },
    {
      "cell_type": "markdown",
      "metadata": {
        "id": "SJOULY-IHpFN"
      },
      "source": [
        "## Configuration"
      ]
    },
    {
      "cell_type": "markdown",
      "metadata": {
        "id": "WuP41V7k0wxy"
      },
      "source": [
        "Here you may configure which features will be passed to the feed-forward neural network."
      ]
    },
    {
      "cell_type": "code",
      "execution_count": 39,
      "metadata": {
        "id": "UmISB6C5yqNW"
      },
      "outputs": [],
      "source": [
        "reduce_train = True\n",
        "\n",
        "emb = True\n",
        "sty = False\n",
        "feats_all = False\n",
        "feat = \"div\" # \"read\", \"rst\", \"ent\"; None if do not need any of these features"
      ]
    },
    {
      "cell_type": "code",
      "execution_count": 51,
      "metadata": {
        "id": "TsTUal8py-XG"
      },
      "outputs": [],
      "source": [
        "features_train = []\n",
        "features_test = []\n",
        "\n",
        "if emb:\n",
        "    features_train.append(train_embeddings)\n",
        "    features_test.append(test_embeddings)\n",
        "if sty:\n",
        "    features_train.append(style_train)\n",
        "    features_test.append(style_test)\n",
        "if feats_all:\n",
        "    features_train.append(features_train_.to_numpy())\n",
        "    features_test.append(features_test_.to_numpy())\n",
        "elif feat:\n",
        "    prefix = f\"{feat.upper()}_\"\n",
        "    features_train.append(features_train_.filter(like=prefix, axis=1).to_numpy())\n",
        "    features_test.append(features_test_.filter(like=prefix, axis=1).to_numpy())\n",
        "\n",
        "if reduce_train:\n",
        "    X_train_main = np.concatenate(tuple(features_train), axis=1)[:70000]\n",
        "    y_train_main = y_train[:70000]\n",
        "else:\n",
        "    X_train_main = np.concatenate(tuple(features_train), axis=1)\n",
        "    y_train_main = y_train\n",
        "X_test_main = np.concatenate(tuple(features_test), axis=1)\n",
        "y_test_main = y_test\n",
        "\n",
        "input_dim = X_train_main.shape[1]"
      ]
    },
    {
      "cell_type": "code",
      "execution_count": 53,
      "metadata": {
        "id": "VnD7_YVQ1KWT"
      },
      "outputs": [],
      "source": [
        "class TextDataset(Dataset):\n",
        "    def __init__(self, texts, labels):\n",
        "        self.texts = texts\n",
        "        self.labels = labels\n",
        "\n",
        "    def __len__(self):\n",
        "        return len(self.labels)\n",
        "\n",
        "    def __getitem__(self, idx):\n",
        "        return self.texts[idx], self.labels[idx]"
      ]
    },
    {
      "cell_type": "markdown",
      "metadata": {
        "id": "iCKdvOn81TCc"
      },
      "source": [
        "To prepare data for the feed-forward neural network:"
      ]
    },
    {
      "cell_type": "code",
      "execution_count": 69,
      "metadata": {
        "id": "jCLsHtPt1DQA"
      },
      "outputs": [],
      "source": [
        "feats_train = torch.tensor(X_train_main, dtype=torch.float).to(device)\n",
        "labels_train = torch.tensor(y_train_main, dtype=torch.long).to(device)\n",
        "dataset_train = TextDataset(feats_train, labels_train)\n",
        "dataloader_train = DataLoader(dataset_train, batch_size=128, shuffle=True)\n",
        "\n",
        "feats_test = torch.tensor(X_test_main, dtype=torch.float).to(device)\n",
        "labels_test = torch.tensor(y_test_main, dtype=torch.long).to(device)\n",
        "dataset_test = TextDataset(feats_test, labels_test)\n",
        "dataloader_test = DataLoader(dataset_test, batch_size=128, shuffle=False)"
      ]
    },
    {
      "cell_type": "markdown",
      "metadata": {
        "id": "xaKAqZSQDNdJ"
      },
      "source": [
        "## Feed-forward neural network"
      ]
    },
    {
      "cell_type": "code",
      "execution_count": 70,
      "metadata": {
        "id": "52hJzoqF2LQu"
      },
      "outputs": [],
      "source": [
        "class CombinedModel(nn.Module):\n",
        "    def __init__(self, input_dim):\n",
        "        super(CombinedModel, self).__init__()\n",
        "        self.network = nn.Sequential(nn.Linear(input_dim, 512),\n",
        "                                     nn.BatchNorm1d(512),\n",
        "                                     nn.ReLU(),\n",
        "                                     nn.Dropout(0.5),\n",
        "\n",
        "                                     nn.Linear(512, 64),\n",
        "                                     nn.BatchNorm1d(64),\n",
        "                                     nn.ReLU(),\n",
        "                                     nn.Dropout(0.5),\n",
        "\n",
        "                                     nn.Linear(64, 2))\n",
        "\n",
        "    def forward(self, combined_input):\n",
        "        logits = self.network(combined_input)\n",
        "        return logits"
      ]
    },
    {
      "cell_type": "markdown",
      "metadata": {
        "id": "suFSNtdw1e-G"
      },
      "source": [
        "Hyperparameters:"
      ]
    },
    {
      "cell_type": "code",
      "execution_count": 82,
      "metadata": {
        "id": "XPfyRuBu1jIv"
      },
      "outputs": [],
      "source": [
        "epochs = 25\n",
        "learning_rate = 0.00005\n",
        "weight_decay = 0.01\n",
        "\n",
        "early_stopping = True\n",
        "patience = 10\n",
        "patience_counter = 0\n",
        "best_metric = 0"
      ]
    },
    {
      "cell_type": "code",
      "execution_count": 83,
      "metadata": {
        "id": "qUlxj6nx8KBG"
      },
      "outputs": [],
      "source": [
        "model = CombinedModel(input_dim=input_dim).to(device)\n",
        "criterion = nn.CrossEntropyLoss()\n",
        "optimizer = optim.Adam(model.parameters(),\n",
        "                       lr=learning_rate,\n",
        "                       weight_decay=weight_decay)"
      ]
    },
    {
      "cell_type": "markdown",
      "metadata": {
        "id": "kuwtBNdr7Zs0"
      },
      "source": [
        "To run training:"
      ]
    },
    {
      "cell_type": "code",
      "execution_count": 84,
      "metadata": {
        "colab": {
          "base_uri": "https://localhost:8080/"
        },
        "id": "mzJiv3w68ZsA",
        "outputId": "37d09274-f1e9-4de7-dded-9c213f452303"
      },
      "outputs": [
        {
          "name": "stdout",
          "output_type": "stream",
          "text": [
            "Epoch 0, Loss: 0.12067081034183502\n",
            "Epoch 1, Loss: 0.07534424960613251\n",
            "Epoch 2, Loss: 0.02977200411260128\n",
            "Epoch 3, Loss: 0.023252204060554504\n",
            "Epoch 4, Loss: 0.01755269058048725\n",
            "Epoch 5, Loss: 0.016290143132209778\n",
            "Epoch 6, Loss: 0.010352612473070621\n",
            "Epoch 7, Loss: 0.010338732041418552\n",
            "Epoch 8, Loss: 0.01187317818403244\n",
            "Epoch 9, Loss: 0.009315061382949352\n",
            "Epoch 10, Loss: 0.010957881808280945\n",
            "Epoch 11, Loss: 0.014286325313150883\n",
            "Epoch 12, Loss: 0.00576710095629096\n",
            "Epoch 13, Loss: 0.006135058123618364\n",
            "Epoch 14, Loss: 0.00753409881144762\n",
            "Epoch 15, Loss: 0.00587966525927186\n",
            "Epoch 16, Loss: 0.006713004317134619\n",
            "Epoch 17, Loss: 0.010569528676569462\n",
            "Epoch 18, Loss: 0.007149464916437864\n",
            "Epoch 19, Loss: 0.008431333117187023\n",
            "Epoch 20, Loss: 0.008094169199466705\n",
            "Epoch 21, Loss: 0.007831797003746033\n",
            "Epoch 22, Loss: 0.009384943172335625\n",
            "Epoch 23, Loss: 0.009126202203333378\n",
            "Epoch 24, Loss: 0.008481038734316826\n",
            "Stopping early at epoch 24\n",
            "Best metric: 0.95\n"
          ]
        }
      ],
      "source": [
        "for epoch in range(epochs):\n",
        "    for texts, labels in dataloader_train:\n",
        "        model.train()\n",
        "        outputs = model(texts)\n",
        "        loss = criterion(outputs, labels)\n",
        "        optimizer.zero_grad()\n",
        "        loss.backward()\n",
        "        optimizer.step()\n",
        "\n",
        "    if early_stopping:\n",
        "        model.eval()\n",
        "        y_preds = []\n",
        "        y_golds = []\n",
        "        with torch.no_grad():\n",
        "            for texts, labels in dataloader_test:\n",
        "                y_pred = model(texts)\n",
        "                y_pred = torch.argmax(nn.functional.softmax(y_pred, dim=1), dim=1)\n",
        "                y_preds.extend(y_pred.cpu().numpy())\n",
        "                y_golds.extend(labels.cpu().numpy())\n",
        "            val_metric = accuracy_score(y_golds, y_preds)\n",
        "            if val_metric > best_metric:\n",
        "                best_metric = val_metric\n",
        "                patience_counter = 0\n",
        "                torch.save(model.state_dict(), os.path.join(DIRECTORY, \"best_model_combination.pt\"))\n",
        "            else:\n",
        "                patience_counter += 1\n",
        "            print(f\"Epoch {epoch}, Loss: {loss.item()}\")\n",
        "            if patience_counter >= patience:\n",
        "                print(f\"Stopping early at epoch {epoch}\")\n",
        "                print(\"Best metric:\", round(best_metric, 2))\n",
        "                break\n",
        "\n",
        "if early_stopping:\n",
        "    model.load_state_dict(torch.load(os.path.join(DIRECTORY, \"best_model_combination.pt\")))"
      ]
    },
    {
      "cell_type": "markdown",
      "metadata": {
        "id": "W-rtWww97er4"
      },
      "source": [
        "### Evaluation and predictions"
      ]
    },
    {
      "cell_type": "code",
      "execution_count": 85,
      "metadata": {
        "colab": {
          "base_uri": "https://localhost:8080/"
        },
        "id": "x9yrcBgZrTGj",
        "outputId": "bc37b511-0344-490c-be34-ef3e441842b2"
      },
      "outputs": [
        {
          "name": "stdout",
          "output_type": "stream",
          "text": [
            "Accuracy: 0.95, F1: 0.95\n"
          ]
        }
      ],
      "source": [
        "model.eval()\n",
        "y_preds = []\n",
        "y_golds = []\n",
        "\n",
        "with torch.no_grad():\n",
        "    for texts, labels in dataloader_test:\n",
        "        y_pred = model(texts)\n",
        "        y_pred = torch.argmax(nn.functional.softmax(y_pred, dim=1), dim=1)\n",
        "        y_preds.extend(y_pred.cpu().numpy())\n",
        "        y_golds.extend(labels.cpu().numpy())\n",
        "    print(f\"Accuracy: {round(accuracy_score(y_golds, y_preds), 2)}, F1: {round(f1_score(y_golds, y_preds), 2)}\")"
      ]
    },
    {
      "cell_type": "code",
      "execution_count": 87,
      "metadata": {
        "id": "ZQx7lN4-k8NV"
      },
      "outputs": [],
      "source": [
        "result = []\n",
        "for i, pred in enumerate(y_preds):\n",
        "    entry = dict()\n",
        "    entry[\"id\"] = int(test[i][\"id\"])\n",
        "    entry[\"label\"] = int(pred)\n",
        "    result.append(entry)\n",
        "\n",
        "jsonl_write(os.path.join(DIRECTORY, \"best_predictions.jsonl\"), result)"
      ]
    },
    {
      "cell_type": "code",
      "execution_count": null,
      "metadata": {
        "id": "9Ssg8Iwg6EAS"
      },
      "outputs": [],
      "source": []
    }
  ],
  "metadata": {
    "accelerator": "GPU",
    "colab": {
      "gpuType": "V100",
      "machine_shape": "hm",
      "provenance": []
    },
    "kernelspec": {
      "display_name": "Python 3",
      "name": "python3"
    },
    "language_info": {
      "name": "python"
    },
    "widgets": {
      "application/vnd.jupyter.widget-state+json": {
        "054ab8dcd0224c638d39ea46c30831f1": {
          "model_module": "@jupyter-widgets/controls",
          "model_module_version": "1.5.0",
          "model_name": "FloatProgressModel",
          "state": {
            "_dom_classes": [],
            "_model_module": "@jupyter-widgets/controls",
            "_model_module_version": "1.5.0",
            "_model_name": "FloatProgressModel",
            "_view_count": null,
            "_view_module": "@jupyter-widgets/controls",
            "_view_module_version": "1.5.0",
            "_view_name": "ProgressView",
            "bar_style": "success",
            "description": "",
            "description_tooltip": null,
            "layout": "IPY_MODEL_3ded8b00586840688b1130cb2afa4472",
            "max": 7485,
            "min": 0,
            "orientation": "horizontal",
            "style": "IPY_MODEL_cb1ccd7633db4ceb8c349d1aad811f6c",
            "value": 7485
          }
        },
        "113d9ca0bc5744a0b43a4b62788d585d": {
          "model_module": "@jupyter-widgets/base",
          "model_module_version": "1.2.0",
          "model_name": "LayoutModel",
          "state": {
            "_model_module": "@jupyter-widgets/base",
            "_model_module_version": "1.2.0",
            "_model_name": "LayoutModel",
            "_view_count": null,
            "_view_module": "@jupyter-widgets/base",
            "_view_module_version": "1.2.0",
            "_view_name": "LayoutView",
            "align_content": null,
            "align_items": null,
            "align_self": null,
            "border": null,
            "bottom": null,
            "display": null,
            "flex": null,
            "flex_flow": null,
            "grid_area": null,
            "grid_auto_columns": null,
            "grid_auto_flow": null,
            "grid_auto_rows": null,
            "grid_column": null,
            "grid_gap": null,
            "grid_row": null,
            "grid_template_areas": null,
            "grid_template_columns": null,
            "grid_template_rows": null,
            "height": null,
            "justify_content": null,
            "justify_items": null,
            "left": null,
            "margin": null,
            "max_height": null,
            "max_width": null,
            "min_height": null,
            "min_width": null,
            "object_fit": null,
            "object_position": null,
            "order": null,
            "overflow": null,
            "overflow_x": null,
            "overflow_y": null,
            "padding": null,
            "right": null,
            "top": null,
            "visibility": null,
            "width": null
          }
        },
        "15cd17c455664f7baa08fc3f0fa92536": {
          "model_module": "@jupyter-widgets/controls",
          "model_module_version": "1.5.0",
          "model_name": "HBoxModel",
          "state": {
            "_dom_classes": [],
            "_model_module": "@jupyter-widgets/controls",
            "_model_module_version": "1.5.0",
            "_model_name": "HBoxModel",
            "_view_count": null,
            "_view_module": "@jupyter-widgets/controls",
            "_view_module_version": "1.5.0",
            "_view_name": "HBoxView",
            "box_style": "",
            "children": [
              "IPY_MODEL_99e05868e317432fad9e7c24153cdb7c",
              "IPY_MODEL_054ab8dcd0224c638d39ea46c30831f1",
              "IPY_MODEL_c4964643dd9143abb8c3abdbba2c9e91"
            ],
            "layout": "IPY_MODEL_6250ba769f634b0dbc295e9ea52c12cb"
          }
        },
        "2b2cc3ea7e1c4ab1a049dcca4742cded": {
          "model_module": "@jupyter-widgets/base",
          "model_module_version": "1.2.0",
          "model_name": "LayoutModel",
          "state": {
            "_model_module": "@jupyter-widgets/base",
            "_model_module_version": "1.2.0",
            "_model_name": "LayoutModel",
            "_view_count": null,
            "_view_module": "@jupyter-widgets/base",
            "_view_module_version": "1.2.0",
            "_view_name": "LayoutView",
            "align_content": null,
            "align_items": null,
            "align_self": null,
            "border": null,
            "bottom": null,
            "display": null,
            "flex": null,
            "flex_flow": null,
            "grid_area": null,
            "grid_auto_columns": null,
            "grid_auto_flow": null,
            "grid_auto_rows": null,
            "grid_column": null,
            "grid_gap": null,
            "grid_row": null,
            "grid_template_areas": null,
            "grid_template_columns": null,
            "grid_template_rows": null,
            "height": null,
            "justify_content": null,
            "justify_items": null,
            "left": null,
            "margin": null,
            "max_height": null,
            "max_width": null,
            "min_height": null,
            "min_width": null,
            "object_fit": null,
            "object_position": null,
            "order": null,
            "overflow": null,
            "overflow_x": null,
            "overflow_y": null,
            "padding": null,
            "right": null,
            "top": null,
            "visibility": null,
            "width": null
          }
        },
        "315db6fba85e451ba2cb44e95a40971b": {
          "model_module": "@jupyter-widgets/controls",
          "model_module_version": "1.5.0",
          "model_name": "DescriptionStyleModel",
          "state": {
            "_model_module": "@jupyter-widgets/controls",
            "_model_module_version": "1.5.0",
            "_model_name": "DescriptionStyleModel",
            "_view_count": null,
            "_view_module": "@jupyter-widgets/base",
            "_view_module_version": "1.2.0",
            "_view_name": "StyleView",
            "description_width": ""
          }
        },
        "3944d974749143d1ae81fd41b5b5078b": {
          "model_module": "@jupyter-widgets/controls",
          "model_module_version": "1.5.0",
          "model_name": "HTMLModel",
          "state": {
            "_dom_classes": [],
            "_model_module": "@jupyter-widgets/controls",
            "_model_module_version": "1.5.0",
            "_model_name": "HTMLModel",
            "_view_count": null,
            "_view_module": "@jupyter-widgets/controls",
            "_view_module_version": "1.5.0",
            "_view_name": "HTMLView",
            "description": "",
            "description_tooltip": null,
            "layout": "IPY_MODEL_989d135e00794429bd27e37f16212874",
            "placeholder": "​",
            "style": "IPY_MODEL_315db6fba85e451ba2cb44e95a40971b",
            "value": " 313/313 [00:14&lt;00:00, 22.17it/s]"
          }
        },
        "3adb392f10bf460cbd14bc8dc0785f44": {
          "model_module": "@jupyter-widgets/controls",
          "model_module_version": "1.5.0",
          "model_name": "DescriptionStyleModel",
          "state": {
            "_model_module": "@jupyter-widgets/controls",
            "_model_module_version": "1.5.0",
            "_model_name": "DescriptionStyleModel",
            "_view_count": null,
            "_view_module": "@jupyter-widgets/base",
            "_view_module_version": "1.2.0",
            "_view_name": "StyleView",
            "description_width": ""
          }
        },
        "3ded8b00586840688b1130cb2afa4472": {
          "model_module": "@jupyter-widgets/base",
          "model_module_version": "1.2.0",
          "model_name": "LayoutModel",
          "state": {
            "_model_module": "@jupyter-widgets/base",
            "_model_module_version": "1.2.0",
            "_model_name": "LayoutModel",
            "_view_count": null,
            "_view_module": "@jupyter-widgets/base",
            "_view_module_version": "1.2.0",
            "_view_name": "LayoutView",
            "align_content": null,
            "align_items": null,
            "align_self": null,
            "border": null,
            "bottom": null,
            "display": null,
            "flex": null,
            "flex_flow": null,
            "grid_area": null,
            "grid_auto_columns": null,
            "grid_auto_flow": null,
            "grid_auto_rows": null,
            "grid_column": null,
            "grid_gap": null,
            "grid_row": null,
            "grid_template_areas": null,
            "grid_template_columns": null,
            "grid_template_rows": null,
            "height": null,
            "justify_content": null,
            "justify_items": null,
            "left": null,
            "margin": null,
            "max_height": null,
            "max_width": null,
            "min_height": null,
            "min_width": null,
            "object_fit": null,
            "object_position": null,
            "order": null,
            "overflow": null,
            "overflow_x": null,
            "overflow_y": null,
            "padding": null,
            "right": null,
            "top": null,
            "visibility": null,
            "width": null
          }
        },
        "3e013e9ba6454c8ea0f03513de5de0b2": {
          "model_module": "@jupyter-widgets/controls",
          "model_module_version": "1.5.0",
          "model_name": "HTMLModel",
          "state": {
            "_dom_classes": [],
            "_model_module": "@jupyter-widgets/controls",
            "_model_module_version": "1.5.0",
            "_model_name": "HTMLModel",
            "_view_count": null,
            "_view_module": "@jupyter-widgets/controls",
            "_view_module_version": "1.5.0",
            "_view_name": "HTMLView",
            "description": "",
            "description_tooltip": null,
            "layout": "IPY_MODEL_aad9539347b74f0e86f4203ee3a9a172",
            "placeholder": "​",
            "style": "IPY_MODEL_f09fc2a4230e4024a60a747b27984aa8",
            "value": "100%"
          }
        },
        "45f8818bec3c4da8ae0b8447a4ca714f": {
          "model_module": "@jupyter-widgets/controls",
          "model_module_version": "1.5.0",
          "model_name": "HBoxModel",
          "state": {
            "_dom_classes": [],
            "_model_module": "@jupyter-widgets/controls",
            "_model_module_version": "1.5.0",
            "_model_name": "HBoxModel",
            "_view_count": null,
            "_view_module": "@jupyter-widgets/controls",
            "_view_module_version": "1.5.0",
            "_view_name": "HBoxView",
            "box_style": "",
            "children": [
              "IPY_MODEL_3e013e9ba6454c8ea0f03513de5de0b2",
              "IPY_MODEL_f7c1acece7b845de9be4e1854972f38c",
              "IPY_MODEL_3944d974749143d1ae81fd41b5b5078b"
            ],
            "layout": "IPY_MODEL_6457ece9566d4eb58c4aa6927f270818"
          }
        },
        "6250ba769f634b0dbc295e9ea52c12cb": {
          "model_module": "@jupyter-widgets/base",
          "model_module_version": "1.2.0",
          "model_name": "LayoutModel",
          "state": {
            "_model_module": "@jupyter-widgets/base",
            "_model_module_version": "1.2.0",
            "_model_name": "LayoutModel",
            "_view_count": null,
            "_view_module": "@jupyter-widgets/base",
            "_view_module_version": "1.2.0",
            "_view_name": "LayoutView",
            "align_content": null,
            "align_items": null,
            "align_self": null,
            "border": null,
            "bottom": null,
            "display": null,
            "flex": null,
            "flex_flow": null,
            "grid_area": null,
            "grid_auto_columns": null,
            "grid_auto_flow": null,
            "grid_auto_rows": null,
            "grid_column": null,
            "grid_gap": null,
            "grid_row": null,
            "grid_template_areas": null,
            "grid_template_columns": null,
            "grid_template_rows": null,
            "height": null,
            "justify_content": null,
            "justify_items": null,
            "left": null,
            "margin": null,
            "max_height": null,
            "max_width": null,
            "min_height": null,
            "min_width": null,
            "object_fit": null,
            "object_position": null,
            "order": null,
            "overflow": null,
            "overflow_x": null,
            "overflow_y": null,
            "padding": null,
            "right": null,
            "top": null,
            "visibility": null,
            "width": null
          }
        },
        "6457ece9566d4eb58c4aa6927f270818": {
          "model_module": "@jupyter-widgets/base",
          "model_module_version": "1.2.0",
          "model_name": "LayoutModel",
          "state": {
            "_model_module": "@jupyter-widgets/base",
            "_model_module_version": "1.2.0",
            "_model_name": "LayoutModel",
            "_view_count": null,
            "_view_module": "@jupyter-widgets/base",
            "_view_module_version": "1.2.0",
            "_view_name": "LayoutView",
            "align_content": null,
            "align_items": null,
            "align_self": null,
            "border": null,
            "bottom": null,
            "display": null,
            "flex": null,
            "flex_flow": null,
            "grid_area": null,
            "grid_auto_columns": null,
            "grid_auto_flow": null,
            "grid_auto_rows": null,
            "grid_column": null,
            "grid_gap": null,
            "grid_row": null,
            "grid_template_areas": null,
            "grid_template_columns": null,
            "grid_template_rows": null,
            "height": null,
            "justify_content": null,
            "justify_items": null,
            "left": null,
            "margin": null,
            "max_height": null,
            "max_width": null,
            "min_height": null,
            "min_width": null,
            "object_fit": null,
            "object_position": null,
            "order": null,
            "overflow": null,
            "overflow_x": null,
            "overflow_y": null,
            "padding": null,
            "right": null,
            "top": null,
            "visibility": null,
            "width": null
          }
        },
        "69f9288e2dc24f3a9f01947e6b55d442": {
          "model_module": "@jupyter-widgets/base",
          "model_module_version": "1.2.0",
          "model_name": "LayoutModel",
          "state": {
            "_model_module": "@jupyter-widgets/base",
            "_model_module_version": "1.2.0",
            "_model_name": "LayoutModel",
            "_view_count": null,
            "_view_module": "@jupyter-widgets/base",
            "_view_module_version": "1.2.0",
            "_view_name": "LayoutView",
            "align_content": null,
            "align_items": null,
            "align_self": null,
            "border": null,
            "bottom": null,
            "display": null,
            "flex": null,
            "flex_flow": null,
            "grid_area": null,
            "grid_auto_columns": null,
            "grid_auto_flow": null,
            "grid_auto_rows": null,
            "grid_column": null,
            "grid_gap": null,
            "grid_row": null,
            "grid_template_areas": null,
            "grid_template_columns": null,
            "grid_template_rows": null,
            "height": null,
            "justify_content": null,
            "justify_items": null,
            "left": null,
            "margin": null,
            "max_height": null,
            "max_width": null,
            "min_height": null,
            "min_width": null,
            "object_fit": null,
            "object_position": null,
            "order": null,
            "overflow": null,
            "overflow_x": null,
            "overflow_y": null,
            "padding": null,
            "right": null,
            "top": null,
            "visibility": null,
            "width": null
          }
        },
        "8aa6cfa2b188428fa0e2fbdecf9d5ebf": {
          "model_module": "@jupyter-widgets/controls",
          "model_module_version": "1.5.0",
          "model_name": "ProgressStyleModel",
          "state": {
            "_model_module": "@jupyter-widgets/controls",
            "_model_module_version": "1.5.0",
            "_model_name": "ProgressStyleModel",
            "_view_count": null,
            "_view_module": "@jupyter-widgets/base",
            "_view_module_version": "1.2.0",
            "_view_name": "StyleView",
            "bar_color": null,
            "description_width": ""
          }
        },
        "989d135e00794429bd27e37f16212874": {
          "model_module": "@jupyter-widgets/base",
          "model_module_version": "1.2.0",
          "model_name": "LayoutModel",
          "state": {
            "_model_module": "@jupyter-widgets/base",
            "_model_module_version": "1.2.0",
            "_model_name": "LayoutModel",
            "_view_count": null,
            "_view_module": "@jupyter-widgets/base",
            "_view_module_version": "1.2.0",
            "_view_name": "LayoutView",
            "align_content": null,
            "align_items": null,
            "align_self": null,
            "border": null,
            "bottom": null,
            "display": null,
            "flex": null,
            "flex_flow": null,
            "grid_area": null,
            "grid_auto_columns": null,
            "grid_auto_flow": null,
            "grid_auto_rows": null,
            "grid_column": null,
            "grid_gap": null,
            "grid_row": null,
            "grid_template_areas": null,
            "grid_template_columns": null,
            "grid_template_rows": null,
            "height": null,
            "justify_content": null,
            "justify_items": null,
            "left": null,
            "margin": null,
            "max_height": null,
            "max_width": null,
            "min_height": null,
            "min_width": null,
            "object_fit": null,
            "object_position": null,
            "order": null,
            "overflow": null,
            "overflow_x": null,
            "overflow_y": null,
            "padding": null,
            "right": null,
            "top": null,
            "visibility": null,
            "width": null
          }
        },
        "99e05868e317432fad9e7c24153cdb7c": {
          "model_module": "@jupyter-widgets/controls",
          "model_module_version": "1.5.0",
          "model_name": "HTMLModel",
          "state": {
            "_dom_classes": [],
            "_model_module": "@jupyter-widgets/controls",
            "_model_module_version": "1.5.0",
            "_model_name": "HTMLModel",
            "_view_count": null,
            "_view_module": "@jupyter-widgets/controls",
            "_view_module_version": "1.5.0",
            "_view_name": "HTMLView",
            "description": "",
            "description_tooltip": null,
            "layout": "IPY_MODEL_2b2cc3ea7e1c4ab1a049dcca4742cded",
            "placeholder": "​",
            "style": "IPY_MODEL_b31948d1f2ad41128243264a3d29ef5d",
            "value": "100%"
          }
        },
        "aad9539347b74f0e86f4203ee3a9a172": {
          "model_module": "@jupyter-widgets/base",
          "model_module_version": "1.2.0",
          "model_name": "LayoutModel",
          "state": {
            "_model_module": "@jupyter-widgets/base",
            "_model_module_version": "1.2.0",
            "_model_name": "LayoutModel",
            "_view_count": null,
            "_view_module": "@jupyter-widgets/base",
            "_view_module_version": "1.2.0",
            "_view_name": "LayoutView",
            "align_content": null,
            "align_items": null,
            "align_self": null,
            "border": null,
            "bottom": null,
            "display": null,
            "flex": null,
            "flex_flow": null,
            "grid_area": null,
            "grid_auto_columns": null,
            "grid_auto_flow": null,
            "grid_auto_rows": null,
            "grid_column": null,
            "grid_gap": null,
            "grid_row": null,
            "grid_template_areas": null,
            "grid_template_columns": null,
            "grid_template_rows": null,
            "height": null,
            "justify_content": null,
            "justify_items": null,
            "left": null,
            "margin": null,
            "max_height": null,
            "max_width": null,
            "min_height": null,
            "min_width": null,
            "object_fit": null,
            "object_position": null,
            "order": null,
            "overflow": null,
            "overflow_x": null,
            "overflow_y": null,
            "padding": null,
            "right": null,
            "top": null,
            "visibility": null,
            "width": null
          }
        },
        "b31948d1f2ad41128243264a3d29ef5d": {
          "model_module": "@jupyter-widgets/controls",
          "model_module_version": "1.5.0",
          "model_name": "DescriptionStyleModel",
          "state": {
            "_model_module": "@jupyter-widgets/controls",
            "_model_module_version": "1.5.0",
            "_model_name": "DescriptionStyleModel",
            "_view_count": null,
            "_view_module": "@jupyter-widgets/base",
            "_view_module_version": "1.2.0",
            "_view_name": "StyleView",
            "description_width": ""
          }
        },
        "c4964643dd9143abb8c3abdbba2c9e91": {
          "model_module": "@jupyter-widgets/controls",
          "model_module_version": "1.5.0",
          "model_name": "HTMLModel",
          "state": {
            "_dom_classes": [],
            "_model_module": "@jupyter-widgets/controls",
            "_model_module_version": "1.5.0",
            "_model_name": "HTMLModel",
            "_view_count": null,
            "_view_module": "@jupyter-widgets/controls",
            "_view_module_version": "1.5.0",
            "_view_name": "HTMLView",
            "description": "",
            "description_tooltip": null,
            "layout": "IPY_MODEL_69f9288e2dc24f3a9f01947e6b55d442",
            "placeholder": "​",
            "style": "IPY_MODEL_3adb392f10bf460cbd14bc8dc0785f44",
            "value": " 7485/7485 [06:36&lt;00:00, 19.95it/s]"
          }
        },
        "cb1ccd7633db4ceb8c349d1aad811f6c": {
          "model_module": "@jupyter-widgets/controls",
          "model_module_version": "1.5.0",
          "model_name": "ProgressStyleModel",
          "state": {
            "_model_module": "@jupyter-widgets/controls",
            "_model_module_version": "1.5.0",
            "_model_name": "ProgressStyleModel",
            "_view_count": null,
            "_view_module": "@jupyter-widgets/base",
            "_view_module_version": "1.2.0",
            "_view_name": "StyleView",
            "bar_color": null,
            "description_width": ""
          }
        },
        "f09fc2a4230e4024a60a747b27984aa8": {
          "model_module": "@jupyter-widgets/controls",
          "model_module_version": "1.5.0",
          "model_name": "DescriptionStyleModel",
          "state": {
            "_model_module": "@jupyter-widgets/controls",
            "_model_module_version": "1.5.0",
            "_model_name": "DescriptionStyleModel",
            "_view_count": null,
            "_view_module": "@jupyter-widgets/base",
            "_view_module_version": "1.2.0",
            "_view_name": "StyleView",
            "description_width": ""
          }
        },
        "f7c1acece7b845de9be4e1854972f38c": {
          "model_module": "@jupyter-widgets/controls",
          "model_module_version": "1.5.0",
          "model_name": "FloatProgressModel",
          "state": {
            "_dom_classes": [],
            "_model_module": "@jupyter-widgets/controls",
            "_model_module_version": "1.5.0",
            "_model_name": "FloatProgressModel",
            "_view_count": null,
            "_view_module": "@jupyter-widgets/controls",
            "_view_module_version": "1.5.0",
            "_view_name": "ProgressView",
            "bar_style": "success",
            "description": "",
            "description_tooltip": null,
            "layout": "IPY_MODEL_113d9ca0bc5744a0b43a4b62788d585d",
            "max": 313,
            "min": 0,
            "orientation": "horizontal",
            "style": "IPY_MODEL_8aa6cfa2b188428fa0e2fbdecf9d5ebf",
            "value": 313
          }
        }
      }
    }
  },
  "nbformat": 4,
  "nbformat_minor": 0
}
